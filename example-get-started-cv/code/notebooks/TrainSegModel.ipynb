{
 "cells": [
  {
   "cell_type": "code",
   "execution_count": null,
   "metadata": {},
   "outputs": [],
   "source": [
    "from pathlib import Path\n",
    "\n",
    "root = Path(\"../\")\n",
    "data = root / \"data\""
   ]
  },
  {
   "cell_type": "code",
   "execution_count": null,
   "metadata": {},
   "outputs": [],
   "source": [
    "import warnings\n",
    "warnings.filterwarnings(\"ignore\")"
   ]
  },
  {
   "cell_type": "code",
   "execution_count": null,
   "metadata": {},
   "outputs": [],
   "source": [
    "import shutil\n",
    "from functools import partial\n",
    "\n",
    "import numpy as np\n",
    "import torch\n",
    "from box import ConfigBox\n",
    "from dvclive import Live\n",
    "from dvclive.fastai import DVCLiveCallback\n",
    "from fastai.data.all import Normalize, get_files\n",
    "from fastai.metrics import DiceMulti\n",
    "from fastai.vision.all import (Resize, SegmentationDataLoaders, aug_transforms,\n",
    "                               imagenet_stats, models, unet_learner)\n",
    "from ruamel.yaml import YAML"
   ]
  },
  {
   "attachments": {},
   "cell_type": "markdown",
   "metadata": {},
   "source": [
    "# Download data"
   ]
  },
  {
   "cell_type": "code",
   "execution_count": null,
   "metadata": {},
   "outputs": [],
   "source": [
    "!wget "
   ]
  },
  {
   "attachments": {},
   "cell_type": "markdown",
   "metadata": {},
   "source": [
    "### Load data and split it into train/test"
   ]
  },
  {
   "cell_type": "code",
   "execution_count": null,
   "metadata": {},
   "outputs": [],
   "source": [
    "test_pct = 0.25\n",
    "\n",
    "img_fpaths = get_files(data / \"pool_data\" / \"images\", extensions=\".jpg\")\n",
    "\n",
    "train_data_dir = data / \"train_data\"\n",
    "train_data_dir.mkdir(exist_ok=True)\n",
    "test_data_dir = data / \"test_data\"\n",
    "test_data_dir.mkdir(exist_ok=True)\n",
    "for img_path in img_fpaths:\n",
    "    msk_path = data / \"pool_data\" / \"masks\" / f\"{img_path.stem}.png\"\n",
    "    if np.random.uniform() <= test_pct:\n",
    "        shutil.copy(img_path, test_data_dir)\n",
    "        shutil.copy(msk_path, test_data_dir)\n",
    "    else:\n",
    "        shutil.copy(img_path, train_data_dir)\n",
    "        shutil.copy(msk_path, train_data_dir)"
   ]
  },
  {
   "attachments": {},
   "cell_type": "markdown",
   "metadata": {},
   "source": [
    "### Create a data loader"
   ]
  },
  {
   "cell_type": "code",
   "execution_count": null,
   "metadata": {},
   "outputs": [],
   "source": [
    "def get_mask_path(x, train_data_dir):\n",
    "    return Path(train_data_dir) / f\"{Path(x).stem}.png\""
   ]
  },
  {
   "cell_type": "code",
   "execution_count": null,
   "metadata": {},
   "outputs": [],
   "source": [
    "bs = 8\n",
    "valid_pct = 0.20\n",
    "img_size = 512\n",
    "\n",
    "data_loader = SegmentationDataLoaders.from_label_func(\n",
    "        path=train_data_dir,\n",
    "        fnames=get_files(train_data_dir, extensions=\".jpg\"),\n",
    "        label_func=partial(get_mask_path, train_data_dir=train_data_dir),\n",
    "        codes=[\"not-pool\", \"pool\"],\n",
    "        bs=bs,\n",
    "        valid_pct=valid_pct,\n",
    "        item_tfms=Resize(img_size),\n",
    "        batch_tfms=[\n",
    "            *aug_transforms(size=img_size),\n",
    "            Normalize.from_stats(*imagenet_stats),\n",
    "        ],\n",
    "    )"
   ]
  },
  {
   "attachments": {},
   "cell_type": "markdown",
   "metadata": {},
   "source": [
    "### Review a sample batch of data"
   ]
  },
  {
   "cell_type": "code",
   "execution_count": null,
   "metadata": {},
   "outputs": [],
   "source": [
    "data_loader.show_batch(alpha=0.7)"
   ]
  },
  {
   "attachments": {},
   "cell_type": "markdown",
   "metadata": {},
   "source": [
    "### Train multiple models with different learning rates using `DVCLiveCallback`"
   ]
  },
  {
   "cell_type": "code",
   "execution_count": null,
   "metadata": {},
   "outputs": [],
   "source": [
    "train_arch = 'resnet18'\n",
    "\n",
    "for base_lr in [0.001, 0.005, 0.01]:\n",
    "    live = Live(dir=str(root / \"results\" / \"train\"), \n",
    "            report=\"md\", \n",
    "            save_dvc_exp=True)\n",
    "    live.log_param(\"base_lr\", base_lr)\n",
    "    learn = unet_learner(data_loader, \n",
    "                        arch=getattr(models, train_arch), \n",
    "                        metrics=DiceMulti)\n",
    "    fine_tune_args = {\n",
    "        'epochs': 8,\n",
    "        'base_lr': base_lr\n",
    "        }\n",
    "    learn.fine_tune(\n",
    "        **fine_tune_args,\n",
    "        cbs=[DVCLiveCallback(live=live)])"
   ]
  },
  {
   "cell_type": "code",
   "execution_count": null,
   "metadata": {},
   "outputs": [],
   "source": [
    "# Compare experiments\n",
    "!dvc exp show --only-changed"
   ]
  },
  {
   "cell_type": "code",
   "execution_count": null,
   "metadata": {},
   "outputs": [],
   "source": [
    "# Apply best performing experiment to the workspace\n",
    "!EXP=$(dvc exp show --csv --sort-by dice_multi | tail -n 1 | cut -d , -f 1) && dvc exp apply $EXP"
   ]
  },
  {
   "attachments": {},
   "cell_type": "markdown",
   "metadata": {},
   "source": [
    "### Review sample preditions vs ground truth"
   ]
  },
  {
   "cell_type": "code",
   "execution_count": null,
   "metadata": {},
   "outputs": [],
   "source": [
    "learn.show_results(max_n=6, alpha=0.7)"
   ]
  },
  {
   "attachments": {},
   "cell_type": "markdown",
   "metadata": {},
   "source": [
    "### Review instances where loss function values are the highest (i.e. model is likely to be wrong)"
   ]
  },
  {
   "cell_type": "code",
   "execution_count": null,
   "metadata": {},
   "outputs": [],
   "source": [
    "from fastai.vision.all import SegmentationInterpretation\n",
    "\n",
    "interp = SegmentationInterpretation.from_learner(learn)"
   ]
  },
  {
   "cell_type": "code",
   "execution_count": null,
   "metadata": {},
   "outputs": [],
   "source": [
    "interp.plot_top_losses(k=5, alpha=0.7)"
   ]
  }
 ],
 "metadata": {
  "kernelspec": {
   "display_name": "Python 3",
   "language": "python",
   "name": "python3"
  },
  "language_info": {
   "codemirror_mode": {
    "name": "ipython",
    "version": 3
   },
   "file_extension": ".py",
   "mimetype": "text/x-python",
   "name": "python",
   "nbconvert_exporter": "python",
   "pygments_lexer": "ipython3",
   "version": "3.11.1 (main, Dec 23 2022, 09:40:27) [Clang 14.0.0 (clang-1400.0.29.202)]"
  },
  "orig_nbformat": 4,
  "vscode": {
   "interpreter": {
    "hash": "1a1af0ee75eeea9e2e1ee996c87e7a2b11a0bebd85af04bb136d915cefc0abce"
   }
  }
 },
 "nbformat": 4,
 "nbformat_minor": 2
}
