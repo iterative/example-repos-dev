{
 "cells": [
  {
   "cell_type": "code",
   "execution_count": null,
   "metadata": {},
   "outputs": [],
   "source": [
    "from pathlib import Path\n",
    "\n",
    "ROOT = Path(\"../\")\n",
    "DATA = ROOT / \"data\""
   ]
  },
  {
   "cell_type": "code",
   "execution_count": null,
   "metadata": {},
   "outputs": [],
   "source": [
    "import warnings\n",
    "warnings.filterwarnings(\"ignore\")"
   ]
  },
  {
   "cell_type": "code",
   "execution_count": null,
   "metadata": {},
   "outputs": [],
   "source": [
    "import shutil\n",
    "from functools import partial\n",
    "\n",
    "import numpy as np\n",
    "import torch\n",
    "from box import ConfigBox\n",
    "from dvclive import Live\n",
    "from dvclive.fastai import DVCLiveCallback\n",
    "from fastai.data.all import Normalize, get_files\n",
    "from fastai.metrics import DiceMulti\n",
    "from fastai.vision.all import (Resize, SegmentationDataLoaders, aug_transforms,\n",
    "                               imagenet_stats, models, unet_learner)\n",
    "from ruamel.yaml import YAML\n",
    "from PIL import Image"
   ]
  },
  {
   "attachments": {},
   "cell_type": "markdown",
   "metadata": {},
   "source": [
    "### Load data and split it into train/test"
   ]
  },
  {
   "cell_type": "code",
   "execution_count": null,
   "metadata": {},
   "outputs": [],
   "source": [
    "test_pct = 0.25\n",
    "\n",
    "img_fpaths = get_files(DATA / \"pool_data\" / \"images\", extensions=\".jpg\")\n",
    "\n",
    "train_data_dir = DATA / \"train_data\"\n",
    "train_data_dir.mkdir(exist_ok=True)\n",
    "test_data_dir = DATA / \"test_data\"\n",
    "test_data_dir.mkdir(exist_ok=True)\n",
    "for img_path in img_fpaths:\n",
    "    msk_path = DATA / \"pool_data\" / \"masks\" / f\"{img_path.stem}.png\"\n",
    "    if np.random.uniform() <= test_pct:\n",
    "        shutil.copy(img_path, test_data_dir)\n",
    "        shutil.copy(msk_path, test_data_dir)\n",
    "    else:\n",
    "        shutil.copy(img_path, train_data_dir)\n",
    "        shutil.copy(msk_path, train_data_dir)"
   ]
  },
  {
   "attachments": {},
   "cell_type": "markdown",
   "metadata": {},
   "source": [
    "### Create a data loader"
   ]
  },
  {
   "cell_type": "code",
   "execution_count": null,
   "metadata": {},
   "outputs": [],
   "source": [
    "def get_mask_path(x, train_data_dir):\n",
    "    return Path(train_data_dir) / f\"{Path(x).stem}.png\""
   ]
  },
  {
   "cell_type": "code",
   "execution_count": null,
   "metadata": {},
   "outputs": [],
   "source": [
    "bs = 8\n",
    "valid_pct = 0.20\n",
    "img_size = 256\n",
    "\n",
    "data_loader = SegmentationDataLoaders.from_label_func(\n",
    "        path=train_data_dir,\n",
    "        fnames=get_files(train_data_dir, extensions=\".jpg\"),\n",
    "        label_func=partial(get_mask_path, train_data_dir=train_data_dir),\n",
    "        codes=[\"not-pool\", \"pool\"],\n",
    "        bs=bs,\n",
    "        valid_pct=valid_pct,\n",
    "        item_tfms=Resize(img_size),\n",
    "        batch_tfms=[\n",
    "            *aug_transforms(size=img_size),\n",
    "            Normalize.from_stats(*imagenet_stats),\n",
    "        ],\n",
    "    )"
   ]
  },
  {
   "attachments": {},
   "cell_type": "markdown",
   "metadata": {},
   "source": [
    "### Review a sample batch of data"
   ]
  },
  {
   "cell_type": "code",
   "execution_count": null,
   "metadata": {},
   "outputs": [],
   "source": [
    "data_loader.show_batch(alpha=0.7)"
   ]
  },
  {
   "attachments": {},
   "cell_type": "markdown",
   "metadata": {},
   "source": [
    "### Train multiple models with different learning rates using `DVCLiveCallback`"
   ]
  },
  {
   "cell_type": "code",
   "execution_count": null,
   "metadata": {},
   "outputs": [],
   "source": [
    "def dice(mask_pred, mask_true, classes=[0, 1], eps=1e-6):\n",
    "    dice_list = []\n",
    "    for c in classes:\n",
    "        y_true = mask_true == c\n",
    "        y_pred = mask_pred == c\n",
    "        intersection = 2.0 * np.sum(y_true * y_pred)\n",
    "        dice = intersection / (np.sum(y_true) + np.sum(y_pred) + eps)\n",
    "        dice_list.append(dice)\n",
    "    return np.mean(dice_list)"
   ]
  },
  {
   "cell_type": "code",
   "execution_count": null,
   "metadata": {},
   "outputs": [],
   "source": [
    "train_arch = 'resnet18'\n",
    "\n",
    "for base_lr in [0.001, 0.005, 0.01]:\n",
    "    live = Live(dir=str(ROOT / \"results\" / \"train\"), save_dvc_exp=True)\n",
    "\n",
    "    learn = unet_learner(data_loader, \n",
    "                        arch=getattr(models, train_arch), \n",
    "                        metrics=DiceMulti)\n",
    "    fine_tune_args = {\n",
    "        'epochs': 8,\n",
    "        'base_lr': base_lr\n",
    "    }\n",
    "    live.log_params(fine_tune_args)\n",
    "    learn.fine_tune(\n",
    "        **fine_tune_args,\n",
    "        cbs=[DVCLiveCallback(live=live)])\n",
    "\n",
    "    test_img_fpaths = get_files(DATA / \"test_data\", extensions=\".jpg\")\n",
    "    test_dl = learn.dls.test_dl(test_img_fpaths)\n",
    "    preds, _ = learn.get_preds(dl=test_dl)\n",
    "    masks_pred = np.array(preds[:, 1, :] > 0.5, dtype=int)\n",
    "    test_mask_fpaths = [\n",
    "        get_mask_path(fpath, DATA / \"test_data\") for fpath in test_img_fpaths\n",
    "    ]\n",
    "    masks_true = [Image.open(mask_path) for mask_path in test_mask_fpaths]\n",
    "    masks_true = [\n",
    "        np.array(img.resize((img_size, img_size)), dtype=int) for img in masks_true\n",
    "    ]\n",
    "    with Live(\"results/evaluate\") as live:\n",
    "        dice_multi = 0.0\n",
    "        for ii in range(len(masks_true)):\n",
    "            mask_pred, mask_true = masks_pred[ii], masks_true[ii]\n",
    "            dice_multi += dice(mask_true, mask_pred) / len(masks_true)\n",
    "        live.summary[\"dice_multi\"] = dice_multi"
   ]
  },
  {
   "cell_type": "code",
   "execution_count": null,
   "metadata": {},
   "outputs": [],
   "source": [
    "# Compare experiments\n",
    "!dvc exp show --only-changed"
   ]
  },
  {
   "cell_type": "code",
   "execution_count": null,
   "metadata": {},
   "outputs": [],
   "source": [
    "%%bash\n",
    "# Apply best performing experiment to the workspace\n",
    "BEST_EXP_NAME=$(dvc exp show --csv --sort-by results/evaluate/metrics.json:dice_multi | tail -n 1 | cut -d , -f 1)\n",
    "echo  \"Applying $BEST_EXP_NAME\"\n",
    "dvc exp apply  \"$BEST_EXP_NAME\""
   ]
  },
  {
   "attachments": {},
   "cell_type": "markdown",
   "metadata": {},
   "source": [
    "### Review sample preditions vs ground truth"
   ]
  },
  {
   "cell_type": "code",
   "execution_count": null,
   "metadata": {},
   "outputs": [],
   "source": [
    "learn.show_results(max_n=6, alpha=0.7)"
   ]
  },
  {
   "attachments": {},
   "cell_type": "markdown",
   "metadata": {},
   "source": [
    "### Review instances where loss function values are the highest (i.e. model is likely to be wrong)"
   ]
  },
  {
   "cell_type": "code",
   "execution_count": null,
   "metadata": {},
   "outputs": [],
   "source": [
    "from fastai.vision.all import SegmentationInterpretation\n",
    "\n",
    "interp = SegmentationInterpretation.from_learner(learn)"
   ]
  },
  {
   "cell_type": "code",
   "execution_count": null,
   "metadata": {},
   "outputs": [],
   "source": [
    "interp.plot_top_losses(k=5, alpha=0.7)"
   ]
  }
 ],
 "metadata": {
  "kernelspec": {
   "display_name": "Python 3",
   "language": "python",
   "name": "python3"
  },
  "language_info": {
   "codemirror_mode": {
    "name": "ipython",
    "version": 3
   },
   "file_extension": ".py",
   "mimetype": "text/x-python",
   "name": "python",
   "nbconvert_exporter": "python",
   "pygments_lexer": "ipython3",
   "version": "3.10.4 (main, Jan 25 2023, 00:13:50) [GCC 9.4.0]"
  },
  "orig_nbformat": 4,
  "vscode": {
   "interpreter": {
    "hash": "3ad933181bd8a04b432d3370b9dc3b0662ad032c4dfaa4e4f1596c548f763858"
   }
  }
 },
 "nbformat": 4,
 "nbformat_minor": 2
}
